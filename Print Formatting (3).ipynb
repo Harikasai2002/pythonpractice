{
 "cells": [
  {
   "cell_type": "code",
   "execution_count": 3,
   "metadata": {},
   "outputs": [
    {
     "name": "stdout",
     "output_type": "stream",
     "text": [
      "The first letter is: a,the second letter is: b,the third letter is:c\n"
     ]
    }
   ],
   "source": [
    "#print formatting\n",
    "print('The first letter is: {},the second letter is: {},the third letter is:{}'\n",
    "      .format('a', 'b', 'c'))"
   ]
  },
  {
   "cell_type": "code",
   "execution_count": 4,
   "metadata": {},
   "outputs": [
    {
     "name": "stdout",
     "output_type": "stream",
     "text": [
      "The first letter is: c, The second : a, The third : b\n"
     ]
    }
   ],
   "source": [
    "#we can also manipulate where the argument should appear\n",
    "print('The first letter is: {2}, The second : {0}, The third : {1}'\n",
    "      .format('a','b','c'))"
   ]
  },
  {
   "cell_type": "code",
   "execution_count": 6,
   "metadata": {},
   "outputs": [
    {
     "name": "stdout",
     "output_type": "stream",
     "text": [
      "The first:a,The second:a,the third:a\n"
     ]
    }
   ],
   "source": [
    "#we can also repeat the argument\n",
    "print('The first:{0},The second:{0},the third:{0}'.format('a'))"
   ]
  },
  {
   "cell_type": "code",
   "execution_count": 7,
   "metadata": {},
   "outputs": [
    {
     "name": "stdout",
     "output_type": "stream",
     "text": [
      "The number is 20, and 20,and 20\n"
     ]
    }
   ],
   "source": [
    "print('The number is {0}, and {0},and {0}'.format(20))"
   ]
  },
  {
   "cell_type": "code",
   "execution_count": 9,
   "metadata": {},
   "outputs": [
    {
     "name": "stdout",
     "output_type": "stream",
     "text": [
      "The number is 20.445,and 20.445,and 20.445\n"
     ]
    }
   ],
   "source": [
    "print('The number is {0},and {0},and {0}'.format(20.445))"
   ]
  },
  {
   "cell_type": "code",
   "execution_count": 11,
   "metadata": {},
   "outputs": [
    {
     "name": "stdout",
     "output_type": "stream",
     "text": [
      "the number is [30.4, 20.5], and [30.4, 20.5] , and [30.4, 20.5]\n"
     ]
    }
   ],
   "source": [
    "#using lists,dictionaries and tuples\n",
    "print('the number is {0}, and {0} , and {0}'.format([30.4,20.5]))"
   ]
  },
  {
   "cell_type": "code",
   "execution_count": 12,
   "metadata": {},
   "outputs": [
    {
     "name": "stdout",
     "output_type": "stream",
     "text": [
      "the number is{'money': 'hundred'}, and {'money': 'hundred'}, and {'money': 'hundred'}\n"
     ]
    }
   ],
   "source": [
    "print('the number is{0}, and {0}, and {0}'.format({'money':'hundred'}))"
   ]
  },
  {
   "cell_type": "code",
   "execution_count": 13,
   "metadata": {},
   "outputs": [
    {
     "name": "stdout",
     "output_type": "stream",
     "text": [
      "the number is ASAP Ferg, and ASAP Rocky, and ASAP Ferg\n"
     ]
    }
   ],
   "source": [
    "print('the number is {0}, and {1}, and {0}'.format('ASAP Ferg', 'ASAP Rocky'))"
   ]
  },
  {
   "cell_type": "code",
   "execution_count": 14,
   "metadata": {},
   "outputs": [
    {
     "name": "stdout",
     "output_type": "stream",
     "text": [
      "The number is 10.55,the number is 88.0\n"
     ]
    }
   ],
   "source": [
    "print('The number is {a},the number is {b}'.format(a=10.55, b=88.0))"
   ]
  },
  {
   "cell_type": "code",
   "execution_count": 16,
   "metadata": {},
   "outputs": [
    {
     "name": "stdout",
     "output_type": "stream",
     "text": [
      "Place another string with a mod ans s: STRING\n"
     ]
    }
   ],
   "source": [
    "s = 'STRING'\n",
    "print('Place another string with a mod ans s: %s' %(s))"
   ]
  },
  {
   "cell_type": "code",
   "execution_count": 17,
   "metadata": {},
   "outputs": [
    {
     "name": "stdout",
     "output_type": "stream",
     "text": [
      "Floating point numbers: 14.457\n"
     ]
    }
   ],
   "source": [
    "print('Floating point numbers: %1.3f' %(14.4567))"
   ]
  },
  {
   "cell_type": "code",
   "execution_count": 18,
   "metadata": {},
   "outputs": [
    {
     "name": "stdout",
     "output_type": "stream",
     "text": [
      "Floating number is: 14.5\n"
     ]
    }
   ],
   "source": [
    "print('Floating number is: %1.1f' %(14.4567))"
   ]
  },
  {
   "cell_type": "code",
   "execution_count": 19,
   "metadata": {},
   "outputs": [
    {
     "name": "stdout",
     "output_type": "stream",
     "text": [
      "Floating number is:   14.456700\n"
     ]
    }
   ],
   "source": [
    "print('Floating number is: %11.6f' %(14.4567))"
   ]
  },
  {
   "cell_type": "code",
   "execution_count": 20,
   "metadata": {},
   "outputs": [
    {
     "name": "stdout",
     "output_type": "stream",
     "text": [
      "Floating number is:    14.45678000\n"
     ]
    }
   ],
   "source": [
    "print('Floating number is: %14.8f' %(14.45678))"
   ]
  },
  {
   "cell_type": "code",
   "execution_count": 22,
   "metadata": {},
   "outputs": [
    {
     "name": "stdout",
     "output_type": "stream",
     "text": [
      "Here is a number: 10.3, Here is a string: hello\n"
     ]
    }
   ],
   "source": [
    "print('Here is a number: %s, Here is a string: %s' %(10.3, 'hello'))"
   ]
  },
  {
   "cell_type": "code",
   "execution_count": 23,
   "metadata": {},
   "outputs": [
    {
     "name": "stdout",
     "output_type": "stream",
     "text": [
      "Here is a number: 6.3, Here is a string: 'hii'\n"
     ]
    }
   ],
   "source": [
    "print('Here is a number: %r, Here is a string: %r' %(6.3,'hii'))"
   ]
  },
  {
   "cell_type": "code",
   "execution_count": 25,
   "metadata": {},
   "outputs": [
    {
     "name": "stdout",
     "output_type": "stream",
     "text": [
      "First: hey, Second: 4.56988, Third: 99\n"
     ]
    }
   ],
   "source": [
    "print('First: %s, Second: %1.5f, Third: %r' %('hey',4.56988, 99))"
   ]
  },
  {
   "cell_type": "code",
   "execution_count": 26,
   "metadata": {},
   "outputs": [
    {
     "name": "stdout",
     "output_type": "stream",
     "text": [
      "This is a string with an insert\n"
     ]
    }
   ],
   "source": [
    "print('This is a string with an {p}'.format(p='insert'))"
   ]
  },
  {
   "cell_type": "code",
   "execution_count": 29,
   "metadata": {},
   "outputs": [
    {
     "name": "stdout",
     "output_type": "stream",
     "text": [
      "One: hello, Two: hello, Three: hello\n"
     ]
    }
   ],
   "source": [
    "print('One: {p}, Two: {p}, Three: {p}'.format(p='hello'))"
   ]
  },
  {
   "cell_type": "code",
   "execution_count": 32,
   "metadata": {},
   "outputs": [
    {
     "name": "stdout",
     "output_type": "stream",
     "text": [
      "Obj 1: hi, Obj2: 9, Obj 3: 99.0\n"
     ]
    }
   ],
   "source": [
    "print('Obj 1: {t}, Obj2: {i}, Obj 3: {f}'.format(t='hi',i=9, f=99.0))"
   ]
  },
  {
   "cell_type": "code",
   "execution_count": null,
   "metadata": {},
   "outputs": [],
   "source": []
  }
 ],
 "metadata": {
  "kernelspec": {
   "display_name": "Python 3",
   "language": "python",
   "name": "python3"
  },
  "language_info": {
   "codemirror_mode": {
    "name": "ipython",
    "version": 3
   },
   "file_extension": ".py",
   "mimetype": "text/x-python",
   "name": "python",
   "nbconvert_exporter": "python",
   "pygments_lexer": "ipython3",
   "version": "3.8.3"
  }
 },
 "nbformat": 4,
 "nbformat_minor": 4
}
